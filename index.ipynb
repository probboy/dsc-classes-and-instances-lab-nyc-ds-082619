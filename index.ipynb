{
 "cells": [
  {
   "cell_type": "markdown",
   "metadata": {},
   "source": [
    "# Classes and Instances - Lab\n",
    "\n",
    "## Introduction\n",
    "Okay, you'lve learned how to declare classes and create instances in the last lesson. Now it's time to put these new skills to the test!\n",
    "\n",
    "## Objectives\n",
    "\n",
    "You will be able to:\n",
    "\n",
    "* Define classes\n",
    "* Instantiate instances of classes\n",
    "\n",
    "## Defining Classes\n",
    "\n",
    "\n",
    "You're about to create your first packages with class definitions! You've already seen how to import packages such as NumPy and pandas, and you can organize your own code in a similar manner. For example, once you define the ride class in a file ride.py you can then import said code in another notebook or script with `import ride`. \n",
    "\n",
    "So without further ado, create three files in this folder: **ride.py**, **driver.py** and **passenger.py**. In each of these, define an accompanying class. By convention, you should capitalize the names of these classes within the .py file. For example, in the ride.py file, define a Ride class. For now, the classes need not do anything, just write the keyword `pass` on the first line under each of your class definitions."
   ]
  },
  {
   "cell_type": "code",
   "execution_count": 8,
   "metadata": {},
   "outputs": [],
   "source": [
    "!printf '%s\\n' 'First line.' 'Second line.' 'Third line.' >foo.txt"
   ]
  },
  {
   "cell_type": "code",
   "execution_count": 9,
   "metadata": {},
   "outputs": [
    {
     "name": "stdout",
     "output_type": "stream",
     "text": [
      "First line.\r\n",
      "Second line.\r\n",
      "Third line.\r\n"
     ]
    }
   ],
   "source": [
    "!cat foo.txt"
   ]
  },
  {
   "cell_type": "code",
   "execution_count": 10,
   "metadata": {},
   "outputs": [],
   "source": [
    "!printf '%s\\n' 'class Ride:' '    pass' >ride.py"
   ]
  },
  {
   "cell_type": "code",
   "execution_count": 11,
   "metadata": {},
   "outputs": [],
   "source": [
    "from ride import Ride"
   ]
  },
  {
   "cell_type": "code",
   "execution_count": 12,
   "metadata": {},
   "outputs": [],
   "source": [
    "!printf '%s\\n' 'class Driver:' '    pass' > driver.py"
   ]
  },
  {
   "cell_type": "code",
   "execution_count": 13,
   "metadata": {},
   "outputs": [],
   "source": [
    "# import Driver class here\n",
    "from driver import Driver"
   ]
  },
  {
   "cell_type": "code",
   "execution_count": 14,
   "metadata": {},
   "outputs": [],
   "source": [
    "!printf '%s\\n' 'class Passenger:' '    pass' > passenger.py"
   ]
  },
  {
   "cell_type": "code",
   "execution_count": 15,
   "metadata": {},
   "outputs": [],
   "source": [
    "# import Passenger class here\n",
    "from passenger import Passenger"
   ]
  },
  {
   "cell_type": "markdown",
   "metadata": {},
   "source": [
    "## Creating Instances"
   ]
  },
  {
   "cell_type": "markdown",
   "metadata": {},
   "source": [
    "Now practice using your classes to make instances of those classes. Make two instances of the Passenger class and assign them to the variables `meryl` and `daniel`, respectively."
   ]
  },
  {
   "cell_type": "code",
   "execution_count": 16,
   "metadata": {},
   "outputs": [
    {
     "name": "stdout",
     "output_type": "stream",
     "text": [
      "<passenger.Passenger object at 0x7f2731fb5da0> <passenger.Passenger object at 0x7f2731fb5d68>\n"
     ]
    }
   ],
   "source": [
    "meryl = Passenger()\n",
    "daniel = Passenger()\n",
    "print(meryl, daniel)"
   ]
  },
  {
   "cell_type": "markdown",
   "metadata": {},
   "source": [
    "Next, make one instance of the driver class and assign it to the variable, `flatiron_taxi`."
   ]
  },
  {
   "cell_type": "code",
   "execution_count": 17,
   "metadata": {},
   "outputs": [
    {
     "name": "stdout",
     "output_type": "stream",
     "text": [
      "<driver.Driver object at 0x7f2731fb5b70>\n"
     ]
    }
   ],
   "source": [
    "flatiron_taxi = Driver()\n",
    "print(flatiron_taxi)"
   ]
  },
  {
   "cell_type": "markdown",
   "metadata": {},
   "source": [
    "Finally, make two instances of the Ride class and assign them to `ride_to_school` and `ride_home`. "
   ]
  },
  {
   "cell_type": "code",
   "execution_count": 18,
   "metadata": {
    "scrolled": true
   },
   "outputs": [
    {
     "name": "stdout",
     "output_type": "stream",
     "text": [
      "<ride.Ride object at 0x7f2731fb5f98> <ride.Ride object at 0x7f2731fb5f60>\n"
     ]
    }
   ],
   "source": [
    "ride_to_school = Ride()\n",
    "ride_home = Ride()\n",
    "print(ride_to_school, ride_home)"
   ]
  },
  {
   "cell_type": "markdown",
   "metadata": {},
   "source": [
    "## Summary\n",
    "Great! In this lab, you were able to define multiple classes and create instances of those classes."
   ]
  }
 ],
 "metadata": {
  "kernelspec": {
   "display_name": "Python 3",
   "language": "python",
   "name": "python3"
  },
  "language_info": {
   "codemirror_mode": {
    "name": "ipython",
    "version": 3
   },
   "file_extension": ".py",
   "mimetype": "text/x-python",
   "name": "python",
   "nbconvert_exporter": "python",
   "pygments_lexer": "ipython3",
   "version": "3.6.6"
  }
 },
 "nbformat": 4,
 "nbformat_minor": 2
}
